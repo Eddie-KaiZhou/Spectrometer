{
 "cells": [
  {
   "cell_type": "code",
   "execution_count": 17,
   "metadata": {},
   "outputs": [
    {
     "name": "stdout",
     "output_type": "stream",
     "text": [
      "    Spectrum  Blue light percent\n",
      "0  iphone 11            0.036381\n",
      "1  iphone 12            0.073449\n",
      "2  iphone 13            0.082217\n",
      "3  iphone 14            0.073531\n"
     ]
    }
   ],
   "source": [
    "import numpy as np\n",
    "import pandas as pd\n",
    "\n",
    "def calculate_blue_light_percent(spectrum):\n",
    "    blue_light_range = (spectrum[:, 0] >= 450) & (spectrum[:, 0] <= 495)\n",
    "    blue_light_spectrum = spectrum[blue_light_range]\n",
    "    blue_light_intensity_sum = np.sum(blue_light_spectrum[:, 1])\n",
    "    total_intensity_sum = np.sum(spectrum[:, 1])\n",
    "    blue_light_percentage = blue_light_intensity_sum / total_intensity_sum\n",
    "    return blue_light_percentage\n",
    "\n",
    "spectrum = []\n",
    "blue_light_percent = []\n",
    "for i in range(11, 15):\n",
    "    dataset_filename = f\"{i}_white.txt\"\n",
    "    spectrum_i = np.loadtxt(dataset_filename, skiprows=2)\n",
    "    blue_light_percent_i = calculate_blue_light_percent(spectrum_i)\n",
    "    spectrum.append(f\"iphone {i}\")\n",
    "    blue_light_percent.append(blue_light_percent_i)\n",
    "\n",
    "table = pd.DataFrame(data={\"Spectrum\": spectrum, \"Blue light percent\": blue_light_percent})\n",
    "print(table)\n"
   ]
  }
 ],
 "metadata": {
  "kernelspec": {
   "display_name": "base",
   "language": "python",
   "name": "python3"
  },
  "language_info": {
   "codemirror_mode": {
    "name": "ipython",
    "version": 3
   },
   "file_extension": ".py",
   "mimetype": "text/x-python",
   "name": "python",
   "nbconvert_exporter": "python",
   "pygments_lexer": "ipython3",
   "version": "3.9.13 (main, Aug 25 2022, 18:29:29) \n[Clang 12.0.0 ]"
  },
  "orig_nbformat": 4,
  "vscode": {
   "interpreter": {
    "hash": "40d3a090f54c6569ab1632332b64b2c03c39dcf918b08424e98f38b5ae0af88f"
   }
  }
 },
 "nbformat": 4,
 "nbformat_minor": 2
}

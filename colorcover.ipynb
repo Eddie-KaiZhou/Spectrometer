{
 "cells": [
  {
   "cell_type": "code",
   "execution_count": 1,
   "metadata": {},
   "outputs": [],
   "source": [
    "import numpy as np\n",
    "import pandas as pd\n",
    "from scipy.optimize import minimize_scalar\n",
    "from scipy.integrate import simps\n",
    "\n",
    "\n",
    "wavelength_range = [360,830]\n",
    "def load_cmf(filename):\n",
    "    data = pd.read_csv(filename, header=None, names=['wavelength', 'x', 'y', 'z'])\n",
    "    cmf_wavelengths = data['wavelength'].values\n",
    "    cmf_indices = np.where((cmf_wavelengths >= wavelength_range[0]) & (cmf_wavelengths <= wavelength_range[1]))[0]\n",
    "    cmf_wavelengths = cmf_wavelengths[cmf_indices]\n",
    "    x = np.interp(cmf_wavelengths, data['wavelength'].values, data['x'].values)\n",
    "    y = np.interp(cmf_wavelengths, data['wavelength'].values, data['y'].values)\n",
    "    z = np.interp(cmf_wavelengths, data['wavelength'].values, data['z'].values)\n",
    "    cmf = {\n",
    "        'wavelength': cmf_wavelengths,\n",
    "        'x': x,\n",
    "        'y': y,\n",
    "        'z': z,\n",
    "    }\n",
    "    return cmf\n",
    "\n",
    "def load_spd(filename, cmf):\n",
    "    data = pd.read_csv(filename, sep='\\t', skiprows=2, header=None, names=['wavelength', 'intensity'])\n",
    "    spd_wavelengths = np.round(data['wavelength']).astype(int).values\n",
    "    spd_indices = np.where((spd_wavelengths >= wavelength_range[0]) & (spd_wavelengths <= wavelength_range[1]))[0]\n",
    "    spd_wavelengths = spd_wavelengths[spd_indices]\n",
    "    spd_intensities = data['intensity'].values[spd_indices] \n",
    "    cmf_wavelengths = cmf['wavelength']\n",
    "    x = np.interp(cmf_wavelengths, spd_wavelengths, spd_intensities)\n",
    "\n",
    "    spd = {\n",
    "        'wavelength': cmf_wavelengths,\n",
    "        'intensity': x,\n",
    "    }\n",
    "    return spd\n",
    "\n",
    "def spd_to_xyz(spd, wavelength, cmf):\n",
    "    X = simps(spd * cmf['x'], wavelength)\n",
    "    Y = simps(spd * cmf['y'], wavelength)\n",
    "    Z = simps(spd * cmf['z'], wavelength)\n",
    "    xyz = np.array([X, Y, Z])\n",
    "    x = xyz[0] / np.sum(xyz)\n",
    "    y = xyz[1] / np.sum(xyz)\n",
    "    return np.array([x,y])\n",
    "\n",
    "def color_gamut_point(device_model, cmf):\n",
    "    point = []\n",
    "    light = ['red', 'blue', 'darkgreen']\n",
    "    for i in light:\n",
    "        data_filename = f\"{device_model}_{i}.txt\"\n",
    "        spd_data = load_spd(data_filename ,cmf)\n",
    "        point.append(spd_to_xyz(spd_data['intensity'], spd_data['wavelength'], cmf))\n",
    "    return np.array(point)\n",
    "\n",
    "# P3 color gamut\n",
    "P3_xy = np.array([\n",
    "    [0.6800, 0.3200],\n",
    "    [0.2650, 0.6900],\n",
    "    [0.1500, 0.0600]\n",
    "])\n",
    "\n",
    "def calc_area_of_triangle(xy_points):\n",
    "    A, B, C = xy_points\n",
    "    return 0.5 * np.abs(np.cross(A - C, B - C))\n",
    "\n",
    "# calculate the gamut\n",
    "def calc_coverage(xy_device, P3_xy):\n",
    "    area_divice = calc_area_of_triangle(xy_device)\n",
    "    area_P3 = calc_area_of_triangle(P3_xy)\n",
    "    color_coverage = area_divice/area_P3\n",
    "    return color_coverage"
   ]
  },
  {
   "cell_type": "code",
   "execution_count": 6,
   "metadata": {},
   "outputs": [
    {
     "name": "stdout",
     "output_type": "stream",
     "text": [
      "       Phone  Color Coverage\n",
      "0  iphone 12        0.370262\n",
      "1  iphone 13        0.367885\n",
      "2  iphone 14        0.332509\n"
     ]
    }
   ],
   "source": [
    "### start calculation\n",
    "cmf_data = load_cmf('CIE_cc_1931_2deg.csv')\n",
    "phone = []\n",
    "coverage = []\n",
    "point = []\n",
    "\n",
    "for i in range (12,15):\n",
    "    dataset_filename = f\"{i}_white.txt\"\n",
    "    # Load SPD data\n",
    "    # spd_data = load_spd(dataset_filename,cmf_data)\n",
    "    grmut_point = color_gamut_point (i, cmf_data)\n",
    "    coverage_divice = calc_coverage(grmut_point, P3_xy)\n",
    "    phone.append(f\"iphone {i}\")\n",
    "    coverage.append(coverage_divice)\n",
    "    point.append(color_gamut_point(i, cmf_data))\n",
    "\n",
    "table = pd.DataFrame(data={\"Phone\": phone, \"Color Coverage\": coverage})\n",
    "print(table)\n"
   ]
  }
 ],
 "metadata": {
  "kernelspec": {
   "display_name": "base",
   "language": "python",
   "name": "python3"
  },
  "language_info": {
   "codemirror_mode": {
    "name": "ipython",
    "version": 3
   },
   "file_extension": ".py",
   "mimetype": "text/x-python",
   "name": "python",
   "nbconvert_exporter": "python",
   "pygments_lexer": "ipython3",
   "version": "3.9.13 (main, Aug 25 2022, 18:29:29) \n[Clang 12.0.0 ]"
  },
  "orig_nbformat": 4,
  "vscode": {
   "interpreter": {
    "hash": "40d3a090f54c6569ab1632332b64b2c03c39dcf918b08424e98f38b5ae0af88f"
   }
  }
 },
 "nbformat": 4,
 "nbformat_minor": 2
}
